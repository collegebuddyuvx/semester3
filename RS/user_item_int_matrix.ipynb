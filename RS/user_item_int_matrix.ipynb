{
 "cells": [
  {
   "cell_type": "code",
   "execution_count": 2,
   "id": "4c63cfe7",
   "metadata": {},
   "outputs": [
    {
     "name": "stdout",
     "output_type": "stream",
     "text": [
      "Requirement already satisfied: pandas in /home/gec/mecseaiml/.venv/lib/python3.12/site-packages (2.3.1)\n",
      "Requirement already satisfied: numpy>=1.26.0 in /home/gec/mecseaiml/.venv/lib/python3.12/site-packages (from pandas) (2.3.1)\n",
      "Requirement already satisfied: python-dateutil>=2.8.2 in /home/gec/mecseaiml/.venv/lib/python3.12/site-packages (from pandas) (2.9.0.post0)\n",
      "Requirement already satisfied: pytz>=2020.1 in /home/gec/mecseaiml/.venv/lib/python3.12/site-packages (from pandas) (2025.2)\n",
      "Requirement already satisfied: tzdata>=2022.7 in /home/gec/mecseaiml/.venv/lib/python3.12/site-packages (from pandas) (2025.2)\n",
      "Requirement already satisfied: six>=1.5 in /home/gec/mecseaiml/.venv/lib/python3.12/site-packages (from python-dateutil>=2.8.2->pandas) (1.17.0)\n",
      "Note: you may need to restart the kernel to use updated packages.\n"
     ]
    }
   ],
   "source": [
    "%pip install pandas"
   ]
  },
  {
   "cell_type": "code",
   "execution_count": 3,
   "id": "444743ac",
   "metadata": {},
   "outputs": [],
   "source": [
    "import pandas as pd\n",
    "from collections import defaultdict, Counter"
   ]
  },
  {
   "cell_type": "code",
   "execution_count": 4,
   "id": "0266ae8d",
   "metadata": {},
   "outputs": [],
   "source": [
    "# Dataset (purchase logs)\n",
    "purchase_history = [\n",
    "    (\"John\", [\"Milk\", \"Bread\", \"Napkin\", \"Butter\", \"Table salt\"]),\n",
    "    (\"Mary\", [\"Lipstick\", \"Facewash\", \"Hair color\", \"Nail polish\", \"Bread\"]),\n",
    "    (\"Ram\", [\"Rice\", \"Sugar\", \"Garam masala\", \"potato\", \"onion\"]),\n",
    "    (\"Raj\", [\"Tea\", \"Milk\", \"wafers\", \"Chips\", \"nuts\"]),\n",
    "    (\"Gita\", [\"Tomato\", \"Onion\", \"Cooking Oil\", \"Tur dal\", \"sugar\"]),\n",
    "    (\"Raj\", [\"Bread\", \"Chips\", \"Sauce\", \"Pepsi\", \"Milk\"]),\n",
    "    (\"Mary\", [\"Talcum Powder\", \"Fair & Lovely\", \"Nail cutter\", \"Ribbons\", \"Napkin\"]),\n",
    "    (\"John\", [\"Onion\", \"Tea\", \"Milk\", \"Butter\", \"jam\"]),\n",
    "    (\"Ram\", [\"Tur dal\", \"Tamarind\", \"Sugar\", \"pumpkin\", \"Milk\"]),\n",
    "    (\"Raj\", [\"Noodles\", \"chips\", \"nuts\", \"wafers\", \"Tomato\"]),\n",
    "    (\"Gita\", [\"Milk Powder\", \"Bread\", \"Napkin\", \"Butter\", \"Milk\", \"Table salt\"]),\n",
    "    (\"Mary\", [\"Ribbon\", \"Body Wash\", \"Liquid Soap\", \"Nail polish\", \"Floor Cleaner\"]),\n",
    "    (\"Ram\", [\"Cake\", \"Floor Cleaner\", \"Garam masala\", \"potato\", \"onion\"]),\n",
    "    (\"Raj\", [\"Tea\", \"Milk\", \"wafers\", \"Chips\", \"nuts\"]),\n",
    "    (\"John\", [\"Tomato\", \"Onion\", \"Floor Cleaner\", \"Tur dal\", \"sugar\"]),\n",
    "    (\"Raj\", [\"Bread\", \"Chips\", \"Sauce\", \"Pepsi\", \"Milk\"]),\n",
    "    (\"Gita\", [\"Talcum Powder\", \"Fair & Lovely\", \"grapes\", \"Apple\", \"Napkin\"]),\n",
    "    (\"John\", [\"Onion\", \"Floor Cleaner\", \"Milk\", \"Butter\", \"jam\"]),\n",
    "    (\"Mary\", [\"Tur dal\", \"Tamarind\", \"Sugar\", \"pumpkin\", \"Milk\"]),\n",
    "    (\"Gita\", [\"Noodles\", \"chips\", \"nuts\", \"wafers\", \"Tomato\"]),\n",
    "    (\"Raj\", [\"Apple\", \"Milk\", \"wafers\", \"Chips\", \"nuts\"]),\n",
    "    (\"John\", [\"grapes\", \"Onion\", \"Cooking Oil\", \"Tur dal\", \"sugar\"]),\n",
    "    (\"Gita\", [\"Apple\", \"Chips\", \"Sauce\", \"Pepsi\", \"Milk\"]),\n",
    "    (\"Ram\", [\"Fair & Lovely\", \"Talcum Powder\", \"Nail cutter\", \"Ribbons\", \"Napkin\"]),\n",
    "    (\"John\", [\"Onion\", \"Tea\", \"Milk\", \"Butter\", \"jam\"]),\n",
    "    (\"Mary\", [\"Tur dal\", \"Floor Cleaner\", \"Sugar\", \"grapes\", \"Milk\"]),\n",
    "    (\"Raj\", [\"Noodles\", \"chips\", \"nuts\", \"wafers\", \"Tomato\"]),\n",
    "    (\"Raj\", [\"Tea\", \"Milk\", \"wafers\", \"Chips\", \"nuts\"]),\n",
    "    (\"John\", [\"Tomato\", \"Floor Cleaner\", \"Cooking Oil\", \"Tur dal\", \"sugar\"]),\n",
    "    (\"Mary\", [\"Tur dal\", \"Tamarind\", \"Sugar\", \"pumpkin\", \"Apple\"]),\n",
    "]"
   ]
  },
  {
   "cell_type": "code",
   "execution_count": 5,
   "id": "8f047dc4",
   "metadata": {},
   "outputs": [
    {
     "data": {
      "text/plain": [
       "['Milk',\n",
       " 'Tur dal',\n",
       " 'wafers',\n",
       " 'Chips',\n",
       " 'nuts',\n",
       " 'Tomato',\n",
       " 'Onion',\n",
       " 'Floor Cleaner',\n",
       " 'Bread',\n",
       " 'Napkin']"
      ]
     },
     "execution_count": 5,
     "metadata": {},
     "output_type": "execute_result"
    }
   ],
   "source": [
    "# Count item popularity\n",
    "all_items = [item for _, items in purchase_history for item in items]\n",
    "item_counts = Counter(all_items)\n",
    "top_10_items = [item for item, _ in item_counts.most_common(10)]\n",
    "top_10_items"
   ]
  },
  {
   "cell_type": "code",
   "execution_count": 6,
   "id": "75f9d0cb",
   "metadata": {},
   "outputs": [],
   "source": [
    "#  Build user-item frequency table\n",
    "user_item_freq = defaultdict(lambda: defaultdict(int))\n",
    "\n",
    "for user, items in purchase_history:\n",
    "    for item in items:\n",
    "        if item in top_10_items:\n",
    "            user_item_freq[user][item] += 1"
   ]
  },
  {
   "cell_type": "code",
   "execution_count": 13,
   "id": "383c61ef",
   "metadata": {},
   "outputs": [
    {
     "name": "stdout",
     "output_type": "stream",
     "text": [
      "Milk: 15\n",
      "Tur dal: 8\n",
      "wafers: 7\n",
      "Chips: 7\n",
      "nuts: 7\n",
      "Tomato: 6\n",
      "Onion: 6\n",
      "Floor Cleaner: 6\n",
      "Bread: 5\n",
      "Napkin: 5\n"
     ]
    }
   ],
   "source": [
    "for item in top_10_items:\n",
    "    print(f\"{item}: {sum(user_item_freq[user][item] for user in user_item_freq)}\")"
   ]
  },
  {
   "cell_type": "code",
   "execution_count": 11,
   "id": "d87b43b5",
   "metadata": {},
   "outputs": [
    {
     "name": "stdout",
     "output_type": "stream",
     "text": [
      "Top 10 Items: ['Milk', 'Tur dal', 'wafers', 'Chips', 'nuts', 'Tomato', 'Onion', 'Floor Cleaner', 'Bread', 'Napkin']\n",
      "\n",
      "User-Item Interaction Matrix:\n",
      "      Milk  Tur dal  wafers  Chips  nuts  Tomato  Onion  Floor Cleaner  Bread  \\\n",
      "Gita     2        1       1      1     1       2      1              0      1   \n",
      "Mary     2        3       0      0     0       0      0              2      1   \n",
      "Raj      5        0       5      5     5       2      0              0      2   \n",
      "John     4        3       0      0     0       2      5              3      1   \n",
      "Ram      1        1       0      0     0       0      0              1      0   \n",
      "\n",
      "      Napkin  \n",
      "Gita       2  \n",
      "Mary       1  \n",
      "Raj        0  \n",
      "John       1  \n",
      "Ram        1  \n"
     ]
    },
    {
     "name": "stderr",
     "output_type": "stream",
     "text": [
      "/tmp/ipykernel_3511/3548146515.py:9: FutureWarning: Downcasting object dtype arrays on .fillna, .ffill, .bfill is deprecated and will change in a future version. Call result.infer_objects(copy=False) instead. To opt-in to the future behavior, set `pd.set_option('future.no_silent_downcasting', True)`\n",
      "  user_item_matrix = user_item_matrix.fillna(0).astype(int)\n"
     ]
    }
   ],
   "source": [
    "# Convert frequency to ratings (cap at 5)\n",
    "user_item_matrix = pd.DataFrame(\n",
    "    index=tuple(set([u for u, _ in purchase_history])), columns=top_10_items\n",
    ")\n",
    "\n",
    "for user in user_item_matrix.index:\n",
    "    for item in top_10_items:\n",
    "        freq = user_item_freq[user][item]\n",
    "        user_item_matrix.loc[user, item] = min(freq, 5) if freq > 0 else 0\n",
    "\n",
    "user_item_matrix = user_item_matrix.fillna(0).astype(int)\n",
    "\n",
    "print(\"Top 10 Items:\", top_10_items)\n",
    "print(\"\\nUser-Item Interaction Matrix:\")\n",
    "print(user_item_matrix)"
   ]
  },
  {
   "cell_type": "markdown",
   "id": "3e3267bd",
   "metadata": {},
   "source": [
    "Normalized Ratings Range Cap 5"
   ]
  },
  {
   "cell_type": "code",
   "execution_count": 17,
   "id": "66efe993",
   "metadata": {},
   "outputs": [
    {
     "name": "stdout",
     "output_type": "stream",
     "text": [
      "      Milk  Tur dal  wafers  Chips  nuts  Tomato  Onion  Floor Cleaner  Bread  \\\n",
      "Gita  5.00      2.5     2.5    2.5   2.5    5.00    2.5           0.00   2.50   \n",
      "Mary  3.35      5.0     0.0    0.0   0.0    0.00    0.0           3.35   1.65   \n",
      "Raj   5.00      0.0     5.0    5.0   5.0    1.65    0.0           0.00   1.65   \n",
      "John  4.00      3.0     0.0    0.0   0.0    2.00    5.0           3.00   1.00   \n",
      "Ram   5.00      5.0     0.0    0.0   0.0    0.00    0.0           5.00   0.00   \n",
      "\n",
      "      Napkin  \n",
      "Gita    5.00  \n",
      "Mary    1.65  \n",
      "Raj     0.00  \n",
      "John    1.00  \n",
      "Ram     5.00  \n"
     ]
    },
    {
     "name": "stderr",
     "output_type": "stream",
     "text": [
      "/tmp/ipykernel_3511/2732968845.py:19: FutureWarning: Downcasting object dtype arrays on .fillna, .ffill, .bfill is deprecated and will change in a future version. Call result.infer_objects(copy=False) instead. To opt-in to the future behavior, set `pd.set_option('future.no_silent_downcasting', True)`\n",
      "  user_item_normalized = user_item_normalized.fillna(0).astype(float)\n"
     ]
    }
   ],
   "source": [
    "# Find max purchase count per user (for normalization)\n",
    "user_max_freq = {\n",
    "    user: max(freqs.values()) if freqs else 1 for user, freqs in user_item_freq.items()\n",
    "}\n",
    "\n",
    "# Normalized rating calculation [0, 1] range\n",
    "user_item_normalized = pd.DataFrame(\n",
    "    index=tuple(set([u for u, _ in purchase_history])), columns=top_10_items\n",
    ")\n",
    "\n",
    "for user in user_item_normalized.index:\n",
    "    max_count = user_max_freq[user]\n",
    "    for item in top_10_items:\n",
    "        freq = user_item_freq[user][item]\n",
    "        user_item_normalized.loc[user, item] = (\n",
    "            round(freq / max_count, 2) * 5 if max_count > 0 else 0\n",
    "        )\n",
    "\n",
    "user_item_normalized = user_item_normalized.fillna(0).astype(float)\n",
    "\n",
    "print(user_item_normalized)"
   ]
  }
 ],
 "metadata": {
  "kernelspec": {
   "display_name": "mecseaiml (3.12.3)",
   "language": "python",
   "name": "python3"
  },
  "language_info": {
   "codemirror_mode": {
    "name": "ipython",
    "version": 3
   },
   "file_extension": ".py",
   "mimetype": "text/x-python",
   "name": "python",
   "nbconvert_exporter": "python",
   "pygments_lexer": "ipython3",
   "version": "3.12.3"
  }
 },
 "nbformat": 4,
 "nbformat_minor": 5
}
